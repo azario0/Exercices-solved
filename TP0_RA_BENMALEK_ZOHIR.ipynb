{
  "nbformat": 4,
  "nbformat_minor": 0,
  "metadata": {
    "colab": {
      "provenance": [],
      "collapsed_sections": [],
      "include_colab_link": true
    },
    "kernelspec": {
      "name": "python3",
      "display_name": "Python 3"
    },
    "language_info": {
      "name": "python"
    }
  },
  "cells": [
    {
      "cell_type": "markdown",
      "metadata": {
        "id": "view-in-github",
        "colab_type": "text"
      },
      "source": [
        "<a href=\"https://colab.research.google.com/github/azario0/Exercices-solved/blob/main/TP0_RA_BENMALEK_ZOHIR.ipynb\" target=\"_parent\"><img src=\"https://colab.research.google.com/assets/colab-badge.svg\" alt=\"Open In Colab\"/></a>"
      ]
    },
    {
      "cell_type": "code",
      "execution_count": null,
      "metadata": {
        "colab": {
          "base_uri": "https://localhost:8080/"
        },
        "id": "oWC1AJCBTcIx",
        "outputId": "01135b2a-6170-44b4-8561-a9332e0375c2"
      },
      "outputs": [
        {
          "output_type": "stream",
          "name": "stdout",
          "text": [
            "[15, 13, 5, 11, 5, 14, 9, 6, 14, 1, 8, 8, 11, 3, 12, 11, 2, 17, 14, 1, 6, 12, 13, 14, 1]\n"
          ]
        }
      ],
      "source": [
        "#Question 1\n",
        "Notes=[15, 13, 5, 11, 5, 14, 9, 6, 14, 1,\n",
        " 8, 8, 11, 3, 12, 11, 2, 17, 14, 1, 6, 12, 13, 14, 1]\n",
        "\n",
        "print(Notes)"
      ]
    },
    {
      "cell_type": "code",
      "source": [
        "#Question 2\n",
        "Notes=[15, 13, 5, 11, 5, 14, 9, 6, 14, 1,\n",
        " 8, 8, 11, 3, 12, 11, 2, 17, 14, 1, 6, 12, 13, 14, 1]\n",
        "for i in range(len(Notes)):\n",
        "  Notes[i]=float(Notes[i])\n",
        "print(Notes)"
      ],
      "metadata": {
        "colab": {
          "base_uri": "https://localhost:8080/"
        },
        "id": "KB42XgkCT5uq",
        "outputId": "eb468768-17fb-4e13-8121-71b219120ece"
      },
      "execution_count": null,
      "outputs": [
        {
          "output_type": "stream",
          "name": "stdout",
          "text": [
            "[15.0, 13.0, 5.0, 11.0, 5.0, 14.0, 9.0, 6.0, 14.0, 1.0, 8.0, 8.0, 11.0, 3.0, 12.0, 11.0, 2.0, 17.0, 14.0, 1.0, 6.0, 12.0, 13.0, 14.0, 1.0]\n"
          ]
        }
      ]
    },
    {
      "cell_type": "code",
      "source": [
        "#Question 3\n",
        "Notes=[15, 13, 5, 11, 5, 14, 9, 6, 14, 1,\n",
        " 8, 8, 11, 3, 12, 11, 2, 17, 14, 1, 6, 12, 13, 14, 1]  \n",
        "sum=0\n",
        "for i in Notes:\n",
        "  sum+=i\n",
        "sum=sum/len(Notes)\n",
        "print(sum)"
      ],
      "metadata": {
        "colab": {
          "base_uri": "https://localhost:8080/"
        },
        "id": "NiBpwbCeVwfk",
        "outputId": "a7203e82-1434-4a56-af36-99925c139350"
      },
      "execution_count": null,
      "outputs": [
        {
          "output_type": "stream",
          "name": "stdout",
          "text": [
            "9.04\n"
          ]
        }
      ]
    },
    {
      "cell_type": "code",
      "source": [
        "#Question 4\n",
        "Notes=[15, 13, 5, 11, 5, 14, 9, 6, 14, 1,\n",
        " 8, 8, 11, 3, 12, 11, 2, 17, 14, 1, 6, 12, 13, 14, 1] \n",
        "\n",
        "import numpy as np\n",
        "\n",
        "variance=np.var(Notes)\n",
        "variance"
      ],
      "metadata": {
        "colab": {
          "base_uri": "https://localhost:8080/"
        },
        "id": "9aMrf6_EWn_3",
        "outputId": "d33cdc27-b5e9-49e6-d743-be3101a9abdf"
      },
      "execution_count": null,
      "outputs": [
        {
          "output_type": "execute_result",
          "data": {
            "text/plain": [
              "23.6384"
            ]
          },
          "metadata": {},
          "execution_count": 4
        }
      ]
    },
    {
      "cell_type": "code",
      "source": [
        "#Question 5\n",
        "Notes=[15, 13, 5, 11, 5, 14, 9, 6, 14, 1,\n",
        " 8, 8, 11, 3, 12, 11, 2, 17, 14, 1, 6, 12, 13, 14, 1]\n",
        "rec=1\n",
        "rec1=1\n",
        "recurrent=0\n",
        "for i in range(len(Notes)):\n",
        "  for j in range(i+1,len(Notes)):\n",
        "    if Notes[i]==Notes[j]:\n",
        "      rec=rec+1\n",
        "    \n",
        "  if rec1<rec:\n",
        "    recurrent=Notes[i]\n",
        "    rec1=rec\n",
        "  rec=1\n",
        "print(recurrent,'Se répéte ',rec1,\" fois \")"
      ],
      "metadata": {
        "colab": {
          "base_uri": "https://localhost:8080/"
        },
        "id": "7-gGb-ICdWn2",
        "outputId": "8cf1a39c-0a8f-4fef-cece-02f1d6037662"
      },
      "execution_count": null,
      "outputs": [
        {
          "output_type": "stream",
          "name": "stdout",
          "text": [
            "14 Se répéte  4  fois \n"
          ]
        }
      ]
    },
    {
      "cell_type": "code",
      "source": [
        "#Question 6\n",
        "tab=[]\n",
        "for i in range(len(Notes)):\n",
        "  tmp=Notes.copy()\n",
        "  tmp.pop(i)\n",
        "  if Notes[i] not in tmp:\n",
        "    tab.append(Notes[i])\n",
        "print(tab)"
      ],
      "metadata": {
        "colab": {
          "base_uri": "https://localhost:8080/"
        },
        "id": "Nwht5bcGl9fF",
        "outputId": "7545cdd4-0e97-4966-9374-79e5635f1296"
      },
      "execution_count": null,
      "outputs": [
        {
          "output_type": "stream",
          "name": "stdout",
          "text": [
            "[15, 9, 3, 2, 17]\n"
          ]
        }
      ]
    },
    {
      "cell_type": "code",
      "source": [
        "#Question 7\n",
        "Notes=[15, 13, 5, 11, 5, 14, 9, 6, 14, 1,\n",
        " 8, 8, 11, 3, 12, 11, 2, 17, 14, 1, 6, 12, 13, 14, 1]\n",
        "for i in range(len(Notes)):\n",
        "  for j in range(i,len(Notes)):\n",
        "    if Notes[j]<Notes[i]:\n",
        "      Notes[j],Notes[i]=Notes[i],Notes[j]\n",
        "print(Notes)"
      ],
      "metadata": {
        "colab": {
          "base_uri": "https://localhost:8080/"
        },
        "id": "7xlrn9THmYVf",
        "outputId": "c3949523-1669-45dc-f2c6-4bcac0365263"
      },
      "execution_count": null,
      "outputs": [
        {
          "output_type": "stream",
          "name": "stdout",
          "text": [
            "[1, 1, 1, 2, 3, 5, 5, 6, 6, 8, 8, 9, 11, 11, 11, 12, 12, 13, 13, 14, 14, 14, 14, 15, 17]\n"
          ]
        }
      ]
    },
    {
      "cell_type": "code",
      "source": [],
      "metadata": {
        "id": "Y6jAo1vePmMK"
      },
      "execution_count": null,
      "outputs": []
    },
    {
      "cell_type": "code",
      "source": [
        "#MAXIMISER L'ENTIER\n",
        "num = 156\n",
        "lst=list(str(num))\n",
        "for i in range(len(lst)):\n",
        "  for j in range(i,len(lst)):\n",
        "    lst[i],lst[j]=lst[j],lst[i]\n",
        "    string=\"\".join(lst)\n",
        "    if num<int(string):\n",
        "      num=int(string)\n",
        "print(num)"
      ],
      "metadata": {
        "colab": {
          "base_uri": "https://localhost:8080/"
        },
        "id": "Qei05lusMeFs",
        "outputId": "259ebb36-20fa-4dce-ff61-769b062b9dfb"
      },
      "execution_count": null,
      "outputs": [
        {
          "output_type": "stream",
          "name": "stdout",
          "text": [
            "651\n"
          ]
        }
      ]
    },
    {
      "cell_type": "code",
      "source": [],
      "metadata": {
        "id": "BVqz_9x2N2Jw"
      },
      "execution_count": null,
      "outputs": []
    }
  ]
}